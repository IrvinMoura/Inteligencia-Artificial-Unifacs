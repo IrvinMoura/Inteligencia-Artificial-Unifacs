{
  "nbformat": 4,
  "nbformat_minor": 0,
  "metadata": {
    "colab": {
      "provenance": []
    },
    "kernelspec": {
      "name": "python3",
      "display_name": "Python 3"
    },
    "language_info": {
      "name": "python"
    }
  },
  "cells": [
    {
      "cell_type": "markdown",
      "source": [
        "# Imports"
      ],
      "metadata": {
        "id": "wzpsf6KCi199"
      }
    },
    {
      "cell_type": "code",
      "execution_count": null,
      "metadata": {
        "id": "RCBf7CyHieJ-"
      },
      "outputs": [],
      "source": [
        "import numpy as np\n",
        "import pandas as pd\n",
        "from tabulate import tabulate"
      ]
    },
    {
      "cell_type": "markdown",
      "source": [
        "# Recebendo Valores de Entrada"
      ],
      "metadata": {
        "id": "acj3LRp6j4Vd"
      }
    },
    {
      "cell_type": "code",
      "source": [
        "train_data = pd.read_csv(\"https://raw.githubusercontent.com/nobertomaciel/AI-UNIFACS/refs/heads/main/dados.csv\")\n",
        "test_data = pd.read_csv(\"https://raw.githubusercontent.com/nobertomaciel/AI-UNIFACS/refs/heads/main/teste.csv\")\n",
        "\n",
        "X_train = train_data.iloc[:, :-1].values\n",
        "y_train = train_data.iloc[:, -1].values\n",
        "\n",
        "#print(X_train)\n",
        "#print(y_train)\n",
        "\n",
        "X_test = test_data.values\n",
        "y_test = test_data.iloc[:, 3].values\n",
        "#print(X_test)"
      ],
      "metadata": {
        "id": "hKSn8Oypj7wc"
      },
      "execution_count": null,
      "outputs": []
    },
    {
      "cell_type": "markdown",
      "source": [
        "# Defindo Pesos Aleatoriamente"
      ],
      "metadata": {
        "id": "sDKoJ9L3i4NV"
      }
    },
    {
      "cell_type": "code",
      "source": [
        "def randomizarPesos(n):\n",
        "  return np.random.rand(n).tolist()\n",
        "\n",
        "#randomizarPesos()"
      ],
      "metadata": {
        "id": "WH79i2t3ijYJ"
      },
      "execution_count": null,
      "outputs": []
    },
    {
      "cell_type": "markdown",
      "source": [
        "# Erro Quadrático Médio"
      ],
      "metadata": {
        "id": "sJJtFEUXkVps"
      }
    },
    {
      "cell_type": "code",
      "source": [
        "# Calculo do Erro Quadratico Medio:\n",
        "def EQM(y_real, y_pred):\n",
        "  return np.mean((y_real - y_pred) ** 2)"
      ],
      "metadata": {
        "id": "oTFvyse9kXwn"
      },
      "execution_count": null,
      "outputs": []
    },
    {
      "cell_type": "markdown",
      "source": [
        "# Soma Ponderada"
      ],
      "metadata": {
        "id": "IzKKPA3VmiiD"
      }
    },
    {
      "cell_type": "code",
      "source": [
        "# Calculo de Soma Ponderada ( agregação )\n",
        "def somaPonderada(weight, X):\n",
        "  return sum(w * x for w,x in zip(weight, X))"
      ],
      "metadata": {
        "id": "U73IszwQmjn9"
      },
      "execution_count": null,
      "outputs": []
    },
    {
      "cell_type": "markdown",
      "source": [
        "# Calcular Novos Pesos"
      ],
      "metadata": {
        "id": "z6o2LS4CnwWa"
      }
    },
    {
      "cell_type": "code",
      "source": [
        "def newWeight(weight, error, X, taxa_aprendizado):\n",
        "  return [w + taxa_aprendizado * error * x for w, x in zip(weight, X)]"
      ],
      "metadata": {
        "id": "TfhEtxUQnz91"
      },
      "execution_count": null,
      "outputs": []
    },
    {
      "cell_type": "markdown",
      "source": [
        "# Função de Ativação"
      ],
      "metadata": {
        "id": "DUuh-ZxFn9gi"
      }
    },
    {
      "cell_type": "code",
      "source": [
        "def FunAct(sum):\n",
        "  return 1 if sum > 0 else -1"
      ],
      "metadata": {
        "id": "hwhBsQrln_DL"
      },
      "execution_count": null,
      "outputs": []
    },
    {
      "cell_type": "markdown",
      "source": [
        "# Implementando Neuronio"
      ],
      "metadata": {
        "id": "huyJZGufoHUh"
      }
    },
    {
      "cell_type": "code",
      "source": [
        "def Neuronio(X_train, y_real, epochs=100, taxa_aprendizado=0.01, tolerancia= 0.01):\n",
        "  weight = randomizarPesos(len(X_train[0]))\n",
        "  eqm_anterior = float('inf')\n",
        "\n",
        "  for epoch in range(epochs):\n",
        "    y_pred = []\n",
        "    for xi, di in zip(X_train,y_train):\n",
        "      u = somaPonderada(weight, xi)\n",
        "      y_pred.append(u)\n",
        "      erro = di - u\n",
        "      weight = newWeight(weight, erro, xi, taxa_aprendizado)\n",
        "\n",
        "    eqm_atual = EQM(y_train, y_pred)\n",
        "\n",
        "    if abs(eqm_atual - eqm_anterior) <= tolerancia:\n",
        "      break\n",
        "    eqm_anterior = eqm_atual\n",
        "  return weight"
      ],
      "metadata": {
        "id": "4mnopQ0soMPO"
      },
      "execution_count": null,
      "outputs": []
    },
    {
      "cell_type": "markdown",
      "source": [
        "# Previsão"
      ],
      "metadata": {
        "id": "YCmVoG0Rs2Jn"
      }
    },
    {
      "cell_type": "code",
      "source": [
        "def predict(X, weight):\n",
        "  return np.array([FunAct(somaPonderada(weight, xi)) for xi in X])"
      ],
      "metadata": {
        "id": "yg-rieHYsLwa"
      },
      "execution_count": null,
      "outputs": []
    },
    {
      "cell_type": "markdown",
      "source": [
        "# Calculo Acurácia"
      ],
      "metadata": {
        "id": "r1-hD4fgtUu_"
      }
    },
    {
      "cell_type": "code",
      "source": [
        "def calcularAcuracia(y_real, y_pred):\n",
        "  return np.mean(y_real == y_pred)"
      ],
      "metadata": {
        "id": "CZWEWpVPtXpA"
      },
      "execution_count": null,
      "outputs": []
    },
    {
      "cell_type": "markdown",
      "source": [
        "# Treinamento"
      ],
      "metadata": {
        "id": "VgvvKUURtmgv"
      }
    },
    {
      "cell_type": "code",
      "source": [
        "pesos_finais = Neuronio(X_train, y_train)\n",
        "y_pred_test = predict(X_test, pesos_finais)\n",
        "y_pred_train = predict(X_train, pesos_finais)\n",
        "acuracia = calcularAcuracia(y_train, y_pred_train)"
      ],
      "metadata": {
        "id": "sKjjAoxvtoQ8"
      },
      "execution_count": null,
      "outputs": []
    },
    {
      "cell_type": "markdown",
      "source": [
        "# Impressão dos Resultados"
      ],
      "metadata": {
        "id": "DllJnNb6wtGX"
      }
    },
    {
      "cell_type": "code",
      "source": [
        "def exibirResultados(pesos, y_pred, y_real=None):\n",
        "    print(\"=\"*40)\n",
        "    print(\"🧠  RESULTADOS DO NEURÔNIO ADALINE\")\n",
        "    print(\"=\"*40)\n",
        "\n",
        "    print(\"\\n📌 Pesos finais aprendidos:\")\n",
        "    for i, w in enumerate(pesos):\n",
        "        print(f\"  w{i}: {w:.4f}\")\n",
        "\n",
        "    print(\"\\n🔍 Predições no conjunto de teste:\")\n",
        "    print(f\"  {y_pred}\")\n",
        "    print(f\"\\n✅ Acurácia: {acuracia * 100:.2f}%\")\n",
        "\n",
        "    print(\"=\"*40)\n",
        "\n",
        "# Exibir os resultados\n",
        "exibirResultados(pesos_finais, y_pred_test)\n"
      ],
      "metadata": {
        "colab": {
          "base_uri": "https://localhost:8080/"
        },
        "id": "LamrWBT5wu1X",
        "outputId": "7b297c8e-dab8-4c3b-d707-27227b3d28ab"
      },
      "execution_count": null,
      "outputs": [
        {
          "output_type": "stream",
          "name": "stdout",
          "text": [
            "========================================\n",
            "🧠  RESULTADOS DO NEURÔNIO ADALINE\n",
            "========================================\n",
            "\n",
            "📌 Pesos finais aprendidos:\n",
            "  w0: -0.2915\n",
            "  w1: 0.4450\n",
            "  w2: 1.6344\n",
            "  w3: -0.2160\n",
            "\n",
            "🔍 Predições no conjunto de teste:\n",
            "  [ 1  1  1  1  1 -1  1 -1 -1]\n",
            "\n",
            "✅ Acurácia: 82.76%\n",
            "========================================\n"
          ]
        }
      ]
    }
  ]
}