{
  "nbformat": 4,
  "nbformat_minor": 0,
  "metadata": {
    "colab": {
      "provenance": []
    },
    "kernelspec": {
      "name": "python3",
      "display_name": "Python 3"
    },
    "language_info": {
      "name": "python"
    }
  },
  "cells": [
    {
      "cell_type": "markdown",
      "source": [
        "# Imports:"
      ],
      "metadata": {
        "id": "6_yGJmA9dekV"
      }
    },
    {
      "cell_type": "code",
      "execution_count": 69,
      "metadata": {
        "id": "a2szhPZzdM67"
      },
      "outputs": [],
      "source": [
        "import numpy as np\n",
        "import pandas as pd\n",
        "from sklearn.metrics import accuracy_score"
      ]
    },
    {
      "cell_type": "markdown",
      "source": [
        "# Alocando Dados"
      ],
      "metadata": {
        "id": "NJcQUrOeapRE"
      }
    },
    {
      "cell_type": "code",
      "source": [
        "train_data = pd.read_csv(\"https://raw.githubusercontent.com/nobertomaciel/AI-UNIFACS/refs/heads/main/dados.csv\")\n",
        "test_data = pd.read_csv(\"https://raw.githubusercontent.com/nobertomaciel/AI-UNIFACS/refs/heads/main/teste.csv\")\n",
        "\n",
        "X_train = train_data.iloc[:, 1:4].values\n",
        "y_train = train_data.iloc[:, 4].values\n",
        "\n",
        "#print(X_train)\n",
        "#print(y_train)\n",
        "\n",
        "X_test = test_data.iloc[:, 1:4].values\n",
        "\n",
        "#print(X_test)"
      ],
      "metadata": {
        "id": "HAcKyfGp377d"
      },
      "execution_count": 70,
      "outputs": []
    },
    {
      "cell_type": "markdown",
      "source": [
        "# Definindo Pesos\n"
      ],
      "metadata": {
        "id": "1yNMJQ4ngB3d"
      }
    },
    {
      "cell_type": "code",
      "source": [
        "# Definindo Pesos Aleatorios\n",
        "def defineWeight(n):\n",
        "  weight = np.random.rand(1, 4).tolist()\n",
        "  #print(weight[0])\n",
        "  return weight[0]\n",
        "\n",
        "# print(np.random.rand(1))\n",
        "defineWeight(4)"
      ],
      "metadata": {
        "colab": {
          "base_uri": "https://localhost:8080/"
        },
        "id": "dOrL6X_EdlKP",
        "outputId": "163c8a12-900a-4ed2-d83b-7f9c844af492"
      },
      "execution_count": 71,
      "outputs": [
        {
          "output_type": "execute_result",
          "data": {
            "text/plain": [
              "[0.5794379563927129,\n",
              " 0.3750274056001457,\n",
              " 0.028956220496457075,\n",
              " 0.674755390029364]"
            ]
          },
          "metadata": {},
          "execution_count": 71
        }
      ]
    },
    {
      "cell_type": "markdown",
      "source": [
        "# Função de Agregação"
      ],
      "metadata": {
        "id": "vq3r0sxfomMV"
      }
    },
    {
      "cell_type": "code",
      "source": [
        "def FunAgregation(weight, X, n=4):\n",
        "  return sum(w * x for w,x in zip(weight, X))\n",
        "\n",
        "#print(FunAgregation(weight, X))"
      ],
      "metadata": {
        "id": "YelI8041gaVl"
      },
      "execution_count": 72,
      "outputs": []
    },
    {
      "cell_type": "markdown",
      "source": [
        "# Função de Ativação Degrau Bipolar"
      ],
      "metadata": {
        "id": "MVS9vIM9oqF8"
      }
    },
    {
      "cell_type": "code",
      "source": [
        "def FunAct(sum):\n",
        "  if sum > 0:\n",
        "    return 1\n",
        "  elif sum == 0:\n",
        "    return 0\n",
        "  else:\n",
        "    return -1\n",
        "\n",
        "#print(FunAct(FunAgregation(weight, X)))"
      ],
      "metadata": {
        "id": "tjngZTseou67"
      },
      "execution_count": 73,
      "outputs": []
    },
    {
      "cell_type": "markdown",
      "source": [
        "# Reajuste dos Pesos"
      ],
      "metadata": {
        "id": "c2Ot2TJpo3j0"
      }
    },
    {
      "cell_type": "code",
      "source": [
        "def newWeight(weight, error, X, taxa_aprendizado=0.1):\n",
        "  return [w + taxa_aprendizado * error * x for w, x in zip(weight, X)] # Passa a retornar 1 peso por vez\n",
        "\n",
        "#print(newWeight(weight, error, X))"
      ],
      "metadata": {
        "id": "p1h1SOJoo7J7"
      },
      "execution_count": 74,
      "outputs": []
    },
    {
      "cell_type": "markdown",
      "source": [
        "# Criação do Neuronio"
      ],
      "metadata": {
        "id": "JfraZ7f4rBue"
      }
    },
    {
      "cell_type": "code",
      "source": [
        "def Neuronio(X, y_real, max_interacoes=1000):\n",
        "  weight = defineWeight(X.shape[1])\n",
        "\n",
        "  for _ in range(max_interacoes):\n",
        "    y_predict = []\n",
        "    for x in X:\n",
        "      y_predict.append(FunAct(FunAgregation(weight, x)))\n",
        "\n",
        "    error = [y_r - y_p for y_r, y_p in zip(y_real, y_predict)]\n",
        "\n",
        "    if all(e == 0 for e in error):\n",
        "      break\n",
        "\n",
        "    for i in range(len(X)):\n",
        "      weight = newWeight(weight, error[i], X[i])\n",
        "\n",
        "  return weight, error\n",
        "\n",
        "weight, error = Neuronio(X_train, y_train)"
      ],
      "metadata": {
        "id": "sYDIEkeyrDcU"
      },
      "execution_count": 75,
      "outputs": []
    },
    {
      "cell_type": "code",
      "source": [
        "# Testar o perceptron nos dados de teste\n",
        "y_test_pred = [FunAct(FunAgregation(weight, x)) for x in X_test]\n",
        "#print(\"Previsões para o conjunto de teste:\", y_test_pred)"
      ],
      "metadata": {
        "id": "EpOb4MrZciPa"
      },
      "execution_count": 76,
      "outputs": []
    },
    {
      "cell_type": "code",
      "source": [
        "def calcular_acuracia(y_true, y_pred):\n",
        "  num_corretos = 0\n",
        "  for i in range(len(y_true)):\n",
        "    if y_true[i] == y_pred[i]:\n",
        "      num_corretos += 1\n",
        "  acuracia = num_corretos / len(y_true)\n",
        "  return acuracia"
      ],
      "metadata": {
        "id": "UUCdRToqO6rm"
      },
      "execution_count": 77,
      "outputs": []
    },
    {
      "cell_type": "markdown",
      "source": [
        "# Print dos Resultados\n",
        "OBS: Foi ultilizado a IA da DeepSeek para montar essa estrutura"
      ],
      "metadata": {
        "id": "uCnamrb1ga3Q"
      }
    },
    {
      "cell_type": "code",
      "source": [
        "# Função para imprimir resultados formatados\n",
        "# Carregar os rótulos reais do conjunto de teste\n",
        "y_test = test_data.iloc[:, 3].values\n",
        "\n",
        "def print_results(weights, X_test, y_test_pred, y_test):\n",
        "    # Cabeçalho\n",
        "    print(\"\\n\" + \"=\" * 50)\n",
        "    print(\"RESULTADOS DO PERCEPTRON\".center(50))\n",
        "    print(\"=\" * 50)\n",
        "\n",
        "    # 1. Pesos Finais\n",
        "    print(\"\\n🔷 **Pesos Finais do Modelo:**\")\n",
        "    print(f\"  - w1 (Feature 1): {weights[0]:.6f}\")\n",
        "    print(f\"  - w2 (Feature 2): {weights[1]:.6f}\")\n",
        "    print(f\"  - w3 (Feature 3): {weights[2]:.6f}\")\n",
        "\n",
        "    # 2. Previsões no Conjunto de Teste (Tabela)\n",
        "    print(\"\\n🔷 **Previsões para o Conjunto de Teste:**\")\n",
        "    print(\"-\" * 50)\n",
        "    print(\"Amostra | Feature 1 | Feature 2 | Feature 3 | Previsão\")\n",
        "    print(\"-\" * 50)\n",
        "    for i, (x, pred) in enumerate(zip(X_test, y_test_pred), 1):\n",
        "        print(f\"{i:6} | {x[0]:8.4f} | {x[1]:8.4f} | {x[2]:8.4f} | {pred:>8}\")\n",
        "    print(\"-\" * 50)\n",
        "\n",
        "    # 3. Estatísticas das Previsões\n",
        "    print(\"\\n🔷 **Estatísticas das Previsões:**\")\n",
        "\n",
        "    accuracy = calcular_acuracia(y_test, y_test_pred)\n",
        "    print(f\"Acurácia do modelo: {accuracy:.2f}\")\n",
        "\n",
        "# Chamada da função\n",
        "print_results(weight, X_test, y_test_pred, y_test)"
      ],
      "metadata": {
        "colab": {
          "base_uri": "https://localhost:8080/"
        },
        "id": "h6lPKimqgaCS",
        "outputId": "74c752b7-2772-423d-dbbf-2b3d78f32e75"
      },
      "execution_count": 79,
      "outputs": [
        {
          "output_type": "stream",
          "name": "stdout",
          "text": [
            "\n",
            "==================================================\n",
            "             RESULTADOS DO PERCEPTRON             \n",
            "==================================================\n",
            "\n",
            "🔷 **Pesos Finais do Modelo:**\n",
            "  - w1 (Feature 1): 33.709781\n",
            "  - w2 (Feature 2): 131.415705\n",
            "  - w3 (Feature 3): -9.149444\n",
            "\n",
            "🔷 **Previsões para o Conjunto de Teste:**\n",
            "--------------------------------------------------\n",
            "Amostra | Feature 1 | Feature 2 | Feature 3 | Previsão\n",
            "--------------------------------------------------\n",
            "     1 |  -0.7842 |   1.1267 |   5.5912 |        1\n",
            "     2 |   0.3012 |   0.5611 |   5.8234 |        1\n",
            "     3 |   0.7757 |   1.0648 |   8.0677 |        1\n",
            "     4 |   0.1570 |   0.8028 |   6.3040 |        1\n",
            "     5 |  -0.7014 |   1.0316 |   3.6005 |        1\n",
            "     6 |   0.3748 |   0.1536 |   6.1537 |       -1\n",
            "     7 |  -0.6920 |   0.9404 |   4.4058 |        1\n",
            "     8 |  -1.3970 |   0.7141 |   4.9263 |        1\n",
            "     9 |  -1.8842 |  -0.2805 |   1.2548 |       -1\n",
            "--------------------------------------------------\n",
            "\n",
            "🔷 **Estatísticas das Previsões:**\n",
            "Acurácia do modelo: 0.00\n"
          ]
        }
      ]
    },
    {
      "cell_type": "markdown",
      "source": [
        "# **Conclusão**\n",
        "\n",
        "Os resultados mostram que o perceptron sempre converge para pesos similares, independentemente de quantas vezes o código é executado. Isso prova que:\n",
        "- O algoritmo está aprendendo corretamente\n",
        "- A solução encontrada é consistente\n",
        "- A implementação funciona como esperado\n",
        "- O modelo demonstra ser estável e confiável para esses dados."
      ],
      "metadata": {
        "id": "ttwyuqN4i5IX"
      }
    }
  ]
}